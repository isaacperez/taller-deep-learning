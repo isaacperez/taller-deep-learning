{
 "cells": [
  {
   "cell_type": "markdown",
   "metadata": {},
   "source": [
    "# Aclaración de conceptos\n",
    "\n",
    "\n",
    "- Cómo es una capa de convolucion:\n",
    "\n",
    "<img src=\"convLayer1.png\">\n",
    "<img src=\"convLayer2.png\">\n",
    "<img src=\"convLayer3.png\">\n",
    "<img src=\"convLayer4.png\">\n",
    "<img src=\"convLayer5.png\">\n",
    "<img src=\"convLayer6.png\">\n",
    "<img src=\"convLayer7.png\">\n",
    "\n",
    "- Red neuronal:\n",
    "\n",
    "<img src=\"fcLayer.png\">\n",
    "\n",
    "- Esquema de una red neuronal convolucional:\n",
    "\n",
    "<img src=\"cnnClasificacion.png\">\n"
   ]
  },
  {
   "cell_type": "markdown",
   "metadata": {},
   "source": [
    "# Introducción a TensorFlow\n",
    "\n",
    "- Tensor: generalización de los conceptos de escalar, vector y matriz.\n",
    "\n",
    "<img src=\"tensores.jpg\">\n",
    "\n",
    "- Grafo computacional:\n",
    "\n",
    "<img src=\"computationalGraph.png\">\n",
    "\n",
    "- Tensorflow:\n",
    " - Software libre (licencia Apache 2.0).\n",
    " - Desarrollado originalmente por el equipo de _Google Brain_\n",
    " - Libreria _open source_ para la computación numérica usando grafos de flujo de datos. Ideal para _machine learning_ y _deep learning_.\n",
    " \n",
    "<img src=\"tensorflow1.png\">\n",
    "<img src=\"tensorflow2.png\">\n",
    "<img src=\"tensorflow3.png\">\n",
    "<img src=\"tensorflow4.png\">\n",
    "<img src=\"tensorflow5.jpg\">\n",
    " \n",
    " "
   ]
  },
  {
   "cell_type": "markdown",
   "metadata": {},
   "source": [
    "# Primer ejemplo de TensorFlow"
   ]
  },
  {
   "cell_type": "code",
   "execution_count": 1,
   "metadata": {
    "collapsed": false
   },
   "outputs": [
    {
     "name": "stdout",
     "output_type": "stream",
     "text": [
      "9.0\n"
     ]
    }
   ],
   "source": [
    "# Multiplicación de dos numeros en TensorFlow\n",
    "\n",
    "import tensorflow as tf\n",
    "\n",
    "# Creamos nuestro grafo con las operaciones a realizar\n",
    "a = tf.placeholder(\"float\")\n",
    "b = tf.placeholder(\"float\")\n",
    "\n",
    "y = tf.multiply(a, b)\n",
    "\n",
    "# Creamos una Session para poder trabajar con nuestro grafo.\n",
    "sess = tf.Session()\n",
    "\n",
    "# Le pedimos a tensorflow que nos calcule y, para ello, debemos asignar los valores de a y b.\n",
    "print(sess.run(y, feed_dict={a: 3, b: 3}))\n",
    "\n",
    "sess.close()"
   ]
  },
  {
   "cell_type": "markdown",
   "metadata": {
    "collapsed": true
   },
   "source": [
    "# Explorando el dataset MNIST\n",
    "- Disponible desde tensorflow.\n",
    "- Contiene 55,000 ejemplos de entrenamiento y 10,000 ejemplos para test. Los dígitos tienen todos el mismo tamaño y estan centrados en la imagen. De modo que, cada ejemplo es representado por una matriz de 2 dimensiones de tamaño 28x28 con valores entre 0 y 1.\n",
    "\n",
    "## Imagenes de entrenamiento\n",
    "\n",
    "![mnist.train.xs](https://www.tensorflow.org/versions/master/images/mnist-train-xs.png)\n",
    "\n",
    "## Labels de entrenamient\n",
    "\n",
    "![mnist.train.ys](https://www.tensorflow.org/versions/master/images/mnist-train-ys.png)"
   ]
  },
  {
   "cell_type": "code",
   "execution_count": 2,
   "metadata": {
    "collapsed": false
   },
   "outputs": [
    {
     "name": "stdout",
     "output_type": "stream",
     "text": [
      "Extracting ./mnist/train-images-idx3-ubyte.gz\n",
      "Extracting ./mnist/train-labels-idx1-ubyte.gz\n",
      "Extracting ./mnist/t10k-images-idx3-ubyte.gz\n",
      "Extracting ./mnist/t10k-labels-idx1-ubyte.gz\n"
     ]
    }
   ],
   "source": [
    "from tensorflow.examples.tutorials.mnist import input_data\n",
    "\n",
    "# Con esta orden descargamos el dataset MNIST en el directorio donde esta el _notebook_, mediante el parametro one_hot=True,\n",
    "# le pedimos a tensorflow que transforme las clases de los dígitos (0,1,2,3,4,5,6,7,8,9) a un vector con el mismo tamaño\n",
    "# que el número de clases y con un 1 en la posicion correspondiente a la clase del dígito.\n",
    "\n",
    "# Clase 0 => [1,0,0,0,0,0,0,0,0,0]\n",
    "# Clase 5 => [0,0,0,0,0,1,0,0,0,0]\n",
    "# Clase 9 => [0,0,0,0,0,0,0,0,0,1]\n",
    "\n",
    "mnist = input_data.read_data_sets(\"./mnist/\", one_hot=True)\n",
    "\n",
    "# Cargamos los datos\n",
    "x_train = mnist.train.images\n",
    "y_train = mnist.train.labels\n",
    "x_test = mnist.test.images\n",
    "y_test = mnist.test.labels"
   ]
  },
  {
   "cell_type": "markdown",
   "metadata": {},
   "source": [
    "\n",
    "# Data shape\n",
    "\n",
    "- Cada imagen tiene un tamaño de 784 (28x28).\n"
   ]
  },
  {
   "cell_type": "code",
   "execution_count": 3,
   "metadata": {
    "collapsed": false
   },
   "outputs": [
    {
     "name": "stdout",
     "output_type": "stream",
     "text": [
      "x_train:  (55000, 784)\n",
      "y_train:  (55000, 10)\n",
      "x_test:  (10000, 784)\n",
      "y_test:  (10000, 10)\n"
     ]
    }
   ],
   "source": [
    "print \"x_train: \", x_train.shape\n",
    "print \"y_train: \", y_train.shape\n",
    "print \"x_test: \", x_test.shape\n",
    "print \"y_test: \", y_test.shape\n",
    "\n"
   ]
  },
  {
   "cell_type": "markdown",
   "metadata": {},
   "source": [
    "# Visalización del dataset"
   ]
  },
  {
   "cell_type": "code",
   "execution_count": 4,
   "metadata": {
    "collapsed": false
   },
   "outputs": [
    {
     "data": {
      "image/png": "[encoded data removed]",
      "text/plain": [
       "<matplotlib.figure.Figure at 0x7f583f378750>"
      ]
     },
     "metadata": {},
     "output_type": "display_data"
    }
   ],
   "source": [
    "import matplotlib.pyplot as plt\n",
    "import numpy as np\n",
    "%matplotlib inline\n",
    "\n",
    "def plot_mnist(data, classes):\n",
    "    \n",
    "    for i in range(10):\n",
    "        idxs = (classes == i)\n",
    "        \n",
    "        # get 10 images for class i\n",
    "        images = data[idxs][0:10]\n",
    "            \n",
    "        for j in range(5):   \n",
    "            plt.subplot(5, 10, i + j*10 + 1)\n",
    "            plt.imshow(images[j].reshape(28, 28), cmap='gray')\n",
    "            # print a title only once for each class\n",
    "            if j == 0:\n",
    "                plt.title(i)\n",
    "            plt.axis('off')\n",
    "            \n",
    "    plt.show()\n",
    "\n",
    "classes = np.argmax(y_train, 1)\n",
    "plot_mnist(x_train, classes)"
   ]
  },
  {
   "cell_type": "markdown",
   "metadata": {},
   "source": [
    "# Afrontemos el problema con una red neuronal\n",
    "\n",
    "- Cálculo del error para una red con softmax => Usar cross-entropy:\n",
    "\n",
    "<img src=\"crossEntropy.jpg\">\n",
    "\n",
    "- Estructura de nuestra red:\n",
    "\n",
    "<img src=\"nn.png\">\n",
    "\n",
    "- En tensorflow:\n",
    "\n",
    " - Grafo:\n",
    "![](https://www.tensorflow.org/versions/master/images/softmax-regression-scalargraph.png)\n",
    "\n",
    " - Operación:\n",
    "![](https://www.tensorflow.org/versions/master/images/softmax-regression-vectorequation.png)\n",
    "\n",
    " - Esperamos obtener:\n",
    "azules: pesos positivos, rojo: pesos negativos.\n",
    "![](https://www.tensorflow.org/versions/master/images/softmax-weights.png)"
   ]
  },
  {
   "cell_type": "code",
   "execution_count": 5,
   "metadata": {
    "collapsed": false
   },
   "outputs": [
    {
     "name": "stdout",
     "output_type": "stream",
     "text": [
      "Loss it. 0 = 2.30259\n",
      "Loss it. 100 = 0.428096\n",
      "Loss it. 200 = 0.246036\n",
      "Loss it. 300 = 0.314328\n",
      "Loss it. 400 = 0.429943\n",
      "Loss it. 500 = 0.353608\n",
      "Loss it. 600 = 0.300348\n",
      "Loss it. 700 = 0.547566\n",
      "Loss it. 800 = 0.456533\n",
      "Loss it. 900 = 0.426243\n",
      "Loss it. 1000 = 0.322979\n",
      "Accuracy = 0.9199\n"
     ]
    }
   ],
   "source": [
    "import tensorflow as tf\n",
    "\n",
    "# Creamos el modelo\n",
    "x = tf.placeholder(tf.float32, [None, 784]) # None permite poder suministrar cualquier valor en la dimensión que se encuentra\n",
    "W = tf.Variable(tf.zeros([784, 10])) # Inicializamos todos los pesos a 0\n",
    "b = tf.Variable(tf.zeros([10]))\n",
    "y = tf.matmul(x, W) + b # Predicción de nuestro modelo\n",
    "\n",
    "y_ = tf.placeholder(tf.float32, [None, 10]) # Salida esperada\n",
    "\n",
    "\n",
    "# Definimos el error\n",
    "cross_entropy = tf.reduce_mean(\n",
    "      tf.nn.softmax_cross_entropy_with_logits(labels=y_, logits=y))\n",
    "\n",
    "# Un paso en el entrenamiento consistirá en decirle a tf que minimice el cross_entropy usando el gradient descent\n",
    "# Calculará la salida de la red y ajustará los valores de los pesos gracias al backpropagation.\n",
    "train_step = tf.train.GradientDescentOptimizer(learning_rate=0.5).minimize(cross_entropy)\n",
    "\n",
    "# Preparamos tensorflow para realizar el entrenamiento\n",
    "sess = tf.InteractiveSession()\n",
    "\n",
    "# Antes de comenzar es necesario inicializar todas las variables que hayan en el grafo.\n",
    "sess.run(tf.global_variables_initializer())\n",
    "  \n",
    "# Entrenamiento\n",
    "for i in range(1001):\n",
    "    \n",
    "    batch_xs, batch_ys = mnist.train.next_batch(100)\n",
    "    loss, _ = sess.run([cross_entropy, train_step], feed_dict={x: batch_xs, y_: batch_ys})\n",
    "    \n",
    "    if i % 100 == 0:\n",
    "        print(\"Loss it. \" + str(i) + \" = \" + str(loss))\n",
    "\n",
    "# Probamos el modelo entrenado sobre el conjunto de TEST\n",
    "correct_prediction = tf.equal(tf.argmax(tf.nn.softmax(y), 1), tf.argmax(y_, 1))\n",
    "accuracy = tf.reduce_mean(tf.cast(correct_prediction, tf.float32))\n",
    "\n",
    "print \"Accuracy =\", sess.run(accuracy, feed_dict={x: mnist.test.images,\n",
    "y_: mnist.test.labels})\n",
    "\n"
   ]
  },
  {
   "cell_type": "code",
   "execution_count": 6,
   "metadata": {
    "collapsed": false
   },
   "outputs": [
    {
     "name": "stdout",
     "output_type": "stream",
     "text": [
      "Imagen elegida: \n"
     ]
    },
    {
     "data": {
      "image/png": "[encoded data removed]",
      "text/plain": [
       "<matplotlib.figure.Figure at 0x7f5864d44390>"
      ]
     },
     "metadata": {},
     "output_type": "display_data"
    },
    {
     "name": "stdout",
     "output_type": "stream",
     "text": [
      "Clase predicha:  [4]\n",
      "Salida de nuestro modelo:  [[ 0.0003573   0.00000177  0.00410978  0.00010177  0.95782745  0.00037524\n",
      "   0.00302254  0.00591056  0.00534259  0.02295091]]\n"
     ]
    }
   ],
   "source": [
    "import matplotlib.pyplot as plt\n",
    "import numpy as np\n",
    "%matplotlib inline\n",
    "\n",
    "np.set_printoptions(suppress=True)\n",
    "# Prueba sobre una imagen concreta de test \n",
    "idx = 4\n",
    "\n",
    "print \"Imagen elegida: \"\n",
    "plt.imshow(mnist.test.images[idx,:].reshape(28, 28), cmap='gray')\n",
    "plt.title(mnist.test.labels[idx, :])\n",
    "plt.axis('off')\n",
    "plt.show()\n",
    "\n",
    "salidaModelo, prediccion = sess.run([tf.nn.softmax(y), tf.argmax(tf.nn.softmax(y), 1)],feed_dict={x: mnist.test.images[idx,:].reshape(1,784),\n",
    "y_: mnist.test.labels[idx, :].reshape(1,10)} )\n",
    "\n",
    "print \"Clase predicha: \", prediccion\n",
    "print \"Salida de nuestro modelo: \", salidaModelo\n"
   ]
  },
  {
   "cell_type": "markdown",
   "metadata": {},
   "source": [
    "# Podemos mejorar los resultados si utilizamos una red neuronal convolucional: _LeNet5_*\n",
    "\n",
    "- Vamos a probar una modificación de esta red para mejorar los resultados\n"
   ]
  },
  {
   "cell_type": "code",
   "execution_count": 8,
   "metadata": {
    "collapsed": false
   },
   "outputs": [],
   "source": [
    "def deepnn(x):\n",
    "    \"\"\"\n",
    "\n",
    "    Args:\n",
    "    x: an input tensor with the dimensions (N_examples, 784), where 784 is the\n",
    "    number of pixels in a standard MNIST image.\n",
    "\n",
    "    Returns:\n",
    "    A tuple (y, keep_prob). y is a tensor of shape (N_examples, 10), with values\n",
    "    equal to the logits of classifying the digit into one of 10 classes (the\n",
    "    digits 0-9). keep_prob is a scalar placeholder for the probability of\n",
    "    dropout.\n",
    "    \"\"\"\n",
    "    \n",
    "    # Reshape to use within a convolutional neural net.\n",
    "    # Last dimension is for \"features\" - there is only one here, since images are\n",
    "    # grayscale -- it would be 3 for an RGB image, 4 for RGBA, etc.\n",
    "    with tf.name_scope('reshape'):\n",
    "        x_image = tf.reshape(x, [-1, 28, 28, 1])\n",
    "\n",
    "    # First convolutional layer - maps one grayscale image to 32 feature maps.\n",
    "    with tf.name_scope('conv1'):\n",
    "        W_conv1 = weight_variable([5, 5, 1, 32])\n",
    "        b_conv1 = bias_variable([32])\n",
    "        h_conv1 = tf.nn.relu(conv2d(x_image, W_conv1) + b_conv1)\n",
    "\n",
    "    # Pooling layer - downsamples by 2X.\n",
    "    with tf.name_scope('pool1'):\n",
    "        h_pool1 = max_pool_2x2(h_conv1)\n",
    "\n",
    "    # Second convolutional layer -- maps 32 feature maps to 64.\n",
    "    with tf.name_scope('conv2'):\n",
    "        W_conv2 = weight_variable([5, 5, 32, 64])\n",
    "        b_conv2 = bias_variable([64])\n",
    "        h_conv2 = tf.nn.relu(conv2d(h_pool1, W_conv2) + b_conv2)\n",
    "\n",
    "    # Second pooling layer.\n",
    "    with tf.name_scope('pool2'):\n",
    "        h_pool2 = max_pool_2x2(h_conv2)\n",
    "\n",
    "    # Fully connected layer 1 -- after 2 round of downsampling, our 28x28 image\n",
    "    # is down to 7x7x64 feature maps -- maps this to 1024 features.\n",
    "    with tf.name_scope('fc1'):\n",
    "        W_fc1 = weight_variable([7 * 7 * 64, 1024])\n",
    "        b_fc1 = bias_variable([1024])\n",
    "\n",
    "        h_pool2_flat = tf.reshape(h_pool2, [-1, 7*7*64])\n",
    "        h_fc1 = tf.nn.relu(tf.matmul(h_pool2_flat, W_fc1) + b_fc1)\n",
    "\n",
    "    # Dropout - controls the complexity of the model, prevents co-adaptation of\n",
    "    # features.\n",
    "    #with tf.name_scope('dropout'):\n",
    "    #    keep_prob = tf.placeholder(tf.float32)\n",
    "    #    h_fc1_drop = tf.nn.dropout(h_fc1, keep_prob)\n",
    "\n",
    "    # Map the 1024 features to 10 classes, one for each digit\n",
    "    with tf.name_scope('fc2'):\n",
    "        W_fc2 = weight_variable([1024, 10])\n",
    "        b_fc2 = bias_variable([10])\n",
    "\n",
    "        #y_conv = tf.matmul(h_fc1_drop, W_fc2) + b_fc2\n",
    "        y_conv = tf.matmul(h_fc1, W_fc2) + b_fc2\n",
    "        \n",
    "        return y_conv#, keep_prob\n",
    "\n",
    "\n",
    "def conv2d(x, W):\n",
    "    \"\"\"conv2d returns a 2d convolution layer with full stride.\"\"\"\n",
    "    return tf.nn.conv2d(x, W, strides=[1, 1, 1, 1], padding='SAME')\n",
    "\n",
    "def max_pool_2x2(x):\n",
    "    \"\"\"max_pool_2x2 downsamples a feature map by 2X.\"\"\"\n",
    "    return tf.nn.max_pool(x, ksize=[1, 2, 2, 1],\n",
    "                        strides=[1, 2, 2, 1], padding='SAME') # strides indica el paso del kernel por cada dimension.\n",
    "\n",
    "\n",
    "def weight_variable(shape):\n",
    "    \"\"\"weight_variable generates a weight variable of a given shape.\"\"\"\n",
    "    initial = tf.truncated_normal(shape, stddev=0.1)\n",
    "    return tf.Variable(initial)\n",
    "\n",
    "\n",
    "def bias_variable(shape):\n",
    "    \"\"\"bias_variable generates a bias variable of a given shape.\"\"\"\n",
    "    initial = tf.constant(0.1, shape=shape)\n",
    "    return tf.Variable(initial)\n"
   ]
  },
  {
   "cell_type": "code",
   "execution_count": 8,
   "metadata": {
    "collapsed": false
   },
   "outputs": [
    {
     "name": "stdout",
     "output_type": "stream",
     "text": [
      "step 0, training accuracy 0.09375, training loss 11.3822\n",
      "step 10, training accuracy 0.25, training loss 3.31112\n",
      "step 20, training accuracy 0.4375, training loss 1.67264\n",
      "step 30, training accuracy 0.71875, training loss 0.880312\n",
      "step 40, training accuracy 0.625, training loss 1.00942\n",
      "step 50, training accuracy 0.796875, training loss 0.596609\n",
      "step 60, training accuracy 0.890625, training loss 0.531125\n",
      "step 70, training accuracy 0.828125, training loss 0.534666\n",
      "step 80, training accuracy 0.703125, training loss 0.803484\n",
      "step 90, training accuracy 0.75, training loss 0.704864\n",
      "step 100, training accuracy 0.8125, training loss 0.408018\n",
      "step 110, training accuracy 0.875, training loss 0.3892\n",
      "step 120, training accuracy 0.890625, training loss 0.392752\n",
      "step 130, training accuracy 0.828125, training loss 0.491598\n",
      "step 140, training accuracy 0.890625, training loss 0.406494\n",
      "step 150, training accuracy 0.78125, training loss 0.605432\n",
      "step 160, training accuracy 0.828125, training loss 0.428715\n",
      "step 170, training accuracy 0.984375, training loss 0.143198\n",
      "step 180, training accuracy 0.9375, training loss 0.380655\n",
      "step 190, training accuracy 0.90625, training loss 0.295834\n",
      "step 200, training accuracy 0.859375, training loss 0.350801\n",
      "step 210, training accuracy 0.90625, training loss 0.309413\n",
      "step 220, training accuracy 0.890625, training loss 0.361703\n",
      "step 230, training accuracy 0.875, training loss 0.358273\n",
      "step 240, training accuracy 0.921875, training loss 0.236903\n",
      "step 250, training accuracy 0.9375, training loss 0.192945\n",
      "step 260, training accuracy 0.859375, training loss 0.334644\n",
      "step 270, training accuracy 0.890625, training loss 0.433908\n",
      "step 280, training accuracy 0.890625, training loss 0.483828\n",
      "step 290, training accuracy 0.96875, training loss 0.139783\n",
      "step 300, training accuracy 0.90625, training loss 0.227158\n",
      "step 310, training accuracy 0.921875, training loss 0.264016\n",
      "step 320, training accuracy 0.9375, training loss 0.193899\n",
      "step 330, training accuracy 0.953125, training loss 0.176566\n",
      "step 340, training accuracy 0.96875, training loss 0.118824\n",
      "step 350, training accuracy 0.921875, training loss 0.214371\n",
      "step 360, training accuracy 0.890625, training loss 0.307391\n",
      "step 370, training accuracy 0.96875, training loss 0.124392\n",
      "step 380, training accuracy 0.96875, training loss 0.165062\n",
      "step 390, training accuracy 0.921875, training loss 0.3848\n",
      "step 400, training accuracy 0.9375, training loss 0.273621\n",
      "step 410, training accuracy 0.953125, training loss 0.263346\n",
      "step 420, training accuracy 0.921875, training loss 0.149187\n",
      "step 430, training accuracy 0.96875, training loss 0.1244\n",
      "step 440, training accuracy 0.90625, training loss 0.219256\n",
      "step 450, training accuracy 0.9375, training loss 0.253267\n",
      "step 460, training accuracy 0.921875, training loss 0.216394\n",
      "step 470, training accuracy 0.890625, training loss 0.247615\n",
      "step 480, training accuracy 0.984375, training loss 0.0748707\n",
      "step 490, training accuracy 0.921875, training loss 0.156129\n",
      "step 500, training accuracy 0.953125, training loss 0.112785\n",
      "step 510, training accuracy 0.984375, training loss 0.0721823\n",
      "step 520, training accuracy 0.984375, training loss 0.115917\n",
      "step 530, training accuracy 0.96875, training loss 0.0753278\n",
      "step 540, training accuracy 0.921875, training loss 0.295235\n",
      "step 550, training accuracy 0.953125, training loss 0.148827\n",
      "step 560, training accuracy 0.953125, training loss 0.216033\n",
      "step 570, training accuracy 0.890625, training loss 0.231981\n",
      "step 580, training accuracy 0.953125, training loss 0.165289\n",
      "step 590, training accuracy 0.9375, training loss 0.183007\n",
      "step 600, training accuracy 0.96875, training loss 0.218835\n",
      "step 610, training accuracy 0.96875, training loss 0.117187\n",
      "step 620, training accuracy 0.953125, training loss 0.11631\n",
      "step 630, training accuracy 0.96875, training loss 0.101153\n",
      "step 640, training accuracy 0.96875, training loss 0.130705\n",
      "step 650, training accuracy 0.96875, training loss 0.0923472\n",
      "step 660, training accuracy 0.984375, training loss 0.0643766\n",
      "step 670, training accuracy 0.984375, training loss 0.0668795\n",
      "step 680, training accuracy 0.96875, training loss 0.0868673\n",
      "step 690, training accuracy 0.953125, training loss 0.122997\n",
      "step 700, training accuracy 0.96875, training loss 0.112075\n",
      "step 710, training accuracy 0.9375, training loss 0.16382\n",
      "step 720, training accuracy 0.9375, training loss 0.177998\n",
      "step 730, training accuracy 0.96875, training loss 0.0620269\n",
      "step 740, training accuracy 0.96875, training loss 0.179808\n",
      "step 750, training accuracy 0.96875, training loss 0.102854\n",
      "step 760, training accuracy 0.984375, training loss 0.0734631\n",
      "step 770, training accuracy 0.953125, training loss 0.142104\n",
      "step 780, training accuracy 0.9375, training loss 0.223494\n",
      "step 790, training accuracy 0.953125, training loss 0.127855\n",
      "step 800, training accuracy 1, training loss 0.0444288\n",
      "step 810, training accuracy 0.984375, training loss 0.0658019\n",
      "step 820, training accuracy 1, training loss 0.0285874\n",
      "step 830, training accuracy 0.96875, training loss 0.102233\n",
      "step 840, training accuracy 0.96875, training loss 0.0708229\n",
      "step 850, training accuracy 0.953125, training loss 0.0979384\n",
      "step 860, training accuracy 0.921875, training loss 0.192412\n",
      "step 870, training accuracy 0.9375, training loss 0.267463\n",
      "step 880, training accuracy 0.953125, training loss 0.0985681\n",
      "step 890, training accuracy 0.96875, training loss 0.126961\n",
      "step 900, training accuracy 0.953125, training loss 0.119134\n",
      "step 910, training accuracy 0.890625, training loss 0.342358\n",
      "step 920, training accuracy 0.984375, training loss 0.0879414\n",
      "step 930, training accuracy 0.984375, training loss 0.0749022\n",
      "step 940, training accuracy 0.9375, training loss 0.151303\n",
      "step 950, training accuracy 0.984375, training loss 0.0897622\n",
      "step 960, training accuracy 0.953125, training loss 0.0840513\n",
      "step 970, training accuracy 0.953125, training loss 0.136725\n",
      "step 980, training accuracy 1, training loss 0.0254933\n",
      "step 990, training accuracy 0.96875, training loss 0.212953\n",
      "step 1000, training accuracy 0.9375, training loss 0.253924\n",
      "step 1010, training accuracy 0.953125, training loss 0.121586\n",
      "step 1020, training accuracy 0.96875, training loss 0.0738702\n",
      "step 1030, training accuracy 0.984375, training loss 0.0766701\n",
      "step 1040, training accuracy 0.984375, training loss 0.0498171\n",
      "step 1050, training accuracy 0.953125, training loss 0.120113\n",
      "step 1060, training accuracy 1, training loss 0.0273246\n",
      "step 1070, training accuracy 0.96875, training loss 0.0576974\n",
      "step 1080, training accuracy 0.96875, training loss 0.0976159\n",
      "step 1090, training accuracy 0.953125, training loss 0.108371\n",
      "step 1100, training accuracy 0.984375, training loss 0.0639344\n",
      "step 1110, training accuracy 0.984375, training loss 0.0725029\n",
      "step 1120, training accuracy 1, training loss 0.026152\n",
      "step 1130, training accuracy 0.96875, training loss 0.0577126\n",
      "step 1140, training accuracy 0.984375, training loss 0.061231\n",
      "step 1150, training accuracy 0.90625, training loss 0.229796\n",
      "step 1160, training accuracy 0.984375, training loss 0.0587861\n",
      "step 1170, training accuracy 0.984375, training loss 0.0535083\n",
      "step 1180, training accuracy 0.96875, training loss 0.114379\n",
      "step 1190, training accuracy 0.984375, training loss 0.046159\n",
      "step 1200, training accuracy 0.96875, training loss 0.0998121\n",
      "step 1210, training accuracy 1, training loss 0.023263\n",
      "step 1220, training accuracy 0.984375, training loss 0.0796591\n",
      "step 1230, training accuracy 1, training loss 0.0407613\n",
      "step 1240, training accuracy 0.953125, training loss 0.128366\n",
      "step 1250, training accuracy 0.984375, training loss 0.0472484\n",
      "step 1260, training accuracy 0.953125, training loss 0.0819784\n",
      "step 1270, training accuracy 1, training loss 0.0234422\n",
      "step 1280, training accuracy 0.984375, training loss 0.0679384\n",
      "step 1290, training accuracy 0.9375, training loss 0.189796\n",
      "step 1300, training accuracy 0.953125, training loss 0.101617\n",
      "step 1310, training accuracy 0.984375, training loss 0.0564026\n",
      "step 1320, training accuracy 0.984375, training loss 0.0749291\n",
      "step 1330, training accuracy 0.984375, training loss 0.202681\n",
      "step 1340, training accuracy 0.984375, training loss 0.0454174\n",
      "step 1350, training accuracy 0.9375, training loss 0.165826\n",
      "step 1360, training accuracy 0.953125, training loss 0.0881759\n",
      "step 1370, training accuracy 0.953125, training loss 0.120756\n",
      "step 1380, training accuracy 0.984375, training loss 0.12508\n",
      "step 1390, training accuracy 0.96875, training loss 0.121316\n",
      "step 1400, training accuracy 0.984375, training loss 0.0518431\n",
      "step 1410, training accuracy 0.984375, training loss 0.0732564\n",
      "step 1420, training accuracy 1, training loss 0.0291143\n",
      "step 1430, training accuracy 0.984375, training loss 0.0667425\n",
      "step 1440, training accuracy 0.953125, training loss 0.118222\n",
      "step 1450, training accuracy 0.984375, training loss 0.109383\n",
      "step 1460, training accuracy 0.96875, training loss 0.0561662\n",
      "step 1470, training accuracy 0.96875, training loss 0.172075\n",
      "step 1480, training accuracy 0.953125, training loss 0.158271\n",
      "step 1490, training accuracy 0.984375, training loss 0.035949\n",
      "step 1500, training accuracy 0.984375, training loss 0.0532766\n",
      "step 1510, training accuracy 1, training loss 0.0172163\n",
      "step 1520, training accuracy 0.984375, training loss 0.0330528\n",
      "step 1530, training accuracy 0.96875, training loss 0.0676742\n",
      "step 1540, training accuracy 1, training loss 0.0255456\n",
      "step 1550, training accuracy 0.984375, training loss 0.048826\n",
      "step 1560, training accuracy 1, training loss 0.0290343\n",
      "step 1570, training accuracy 1, training loss 0.0330752\n",
      "step 1580, training accuracy 0.9375, training loss 0.165726\n",
      "step 1590, training accuracy 1, training loss 0.0415515\n",
      "step 1600, training accuracy 1, training loss 0.0200027\n",
      "step 1610, training accuracy 1, training loss 0.0165358\n",
      "step 1620, training accuracy 0.984375, training loss 0.0637815\n",
      "step 1630, training accuracy 1, training loss 0.0266937\n",
      "step 1640, training accuracy 0.96875, training loss 0.0784471\n",
      "step 1650, training accuracy 0.96875, training loss 0.094959\n",
      "step 1660, training accuracy 0.953125, training loss 0.103016\n",
      "step 1670, training accuracy 0.96875, training loss 0.099828\n",
      "step 1680, training accuracy 0.96875, training loss 0.0599256\n",
      "step 1690, training accuracy 0.953125, training loss 0.0871011\n",
      "step 1700, training accuracy 1, training loss 0.0328049\n",
      "step 1710, training accuracy 1, training loss 0.0329473\n",
      "step 1720, training accuracy 1, training loss 0.0226308\n",
      "step 1730, training accuracy 1, training loss 0.0341901\n",
      "step 1740, training accuracy 1, training loss 0.0251944\n",
      "step 1750, training accuracy 0.984375, training loss 0.0635313\n",
      "step 1760, training accuracy 0.984375, training loss 0.0600295\n",
      "step 1770, training accuracy 0.953125, training loss 0.11074\n",
      "step 1780, training accuracy 0.96875, training loss 0.0799098\n",
      "step 1790, training accuracy 0.96875, training loss 0.0309291\n",
      "step 1800, training accuracy 0.953125, training loss 0.110606\n",
      "step 1810, training accuracy 0.984375, training loss 0.0615435\n",
      "step 1820, training accuracy 0.96875, training loss 0.0691468\n",
      "step 1830, training accuracy 0.984375, training loss 0.0350489\n",
      "step 1840, training accuracy 0.953125, training loss 0.250777\n",
      "step 1850, training accuracy 0.96875, training loss 0.127116\n",
      "step 1860, training accuracy 0.984375, training loss 0.0457854\n",
      "step 1870, training accuracy 0.984375, training loss 0.0540552\n",
      "step 1880, training accuracy 0.96875, training loss 0.0794511\n",
      "step 1890, training accuracy 0.96875, training loss 0.0893334\n",
      "step 1900, training accuracy 1, training loss 0.019791\n",
      "step 1910, training accuracy 0.984375, training loss 0.0460322\n",
      "step 1920, training accuracy 0.984375, training loss 0.0752893\n",
      "step 1930, training accuracy 0.984375, training loss 0.103399\n",
      "step 1940, training accuracy 0.96875, training loss 0.148776\n",
      "step 1950, training accuracy 1, training loss 0.0451868\n",
      "step 1960, training accuracy 1, training loss 0.030398\n",
      "step 1970, training accuracy 0.984375, training loss 0.0635339\n",
      "step 1980, training accuracy 1, training loss 0.0304123\n",
      "step 1990, training accuracy 0.984375, training loss 0.0371064\n",
      "step 2000, training accuracy 0.96875, training loss 0.0654747\n",
      "test accuracy 0.9809\n"
     ]
    }
   ],
   "source": [
    "sess.close()\n",
    "\n",
    "# Create the model\n",
    "x = tf.placeholder(tf.float32, [None, 784])\n",
    "\n",
    "# Define loss and optimizer\n",
    "y_ = tf.placeholder(tf.float32, [None, 10])\n",
    "\n",
    "# Build the graph for the deep net\n",
    "y_conv = deepnn(x)\n",
    "\n",
    "with tf.name_scope('loss'):\n",
    "    cross_entropy = tf.nn.softmax_cross_entropy_with_logits(labels=y_,\n",
    "                                                        logits=y_conv)\n",
    "    cross_entropy = tf.reduce_mean(cross_entropy)\n",
    "\n",
    "with tf.name_scope('adam_optimizer'):\n",
    "    train_step = tf.train.AdamOptimizer(learning_rate=1e-4).minimize(cross_entropy)\n",
    "\n",
    "with tf.name_scope('accuracy'):\n",
    "    correct_prediction = tf.equal(tf.argmax(tf.nn.softmax(y_conv), 1), tf.argmax(y_, 1))\n",
    "    correct_prediction = tf.cast(correct_prediction, tf.float32)\n",
    "    accuracy = tf.reduce_mean(correct_prediction)\n",
    "\n",
    "    \n",
    "sess = tf.InteractiveSession()\n",
    "sess.run(tf.global_variables_initializer())\n",
    "\n",
    "for i in range(2001):\n",
    "\n",
    "    batch_xs, batch_ys = mnist.train.next_batch(64)\n",
    "\n",
    "    if i % 10 == 0:\n",
    "        train_accuracy = sess.run(accuracy, feed_dict={x: batch_xs, y_: batch_ys})\n",
    "        train_cross_entropy = sess.run(cross_entropy, feed_dict={x: batch_xs, y_: batch_ys})\n",
    "\n",
    "        print('step %d, training accuracy %g, training loss %g' % (i, train_accuracy, train_cross_entropy))\n",
    "\n",
    "    sess.run(train_step, feed_dict={x: batch_xs, y_: batch_ys})\n",
    "\n",
    "print('test accuracy %g' % sess.run(accuracy, feed_dict={\n",
    "    x: mnist.test.images, y_: mnist.test.labels}))"
   ]
  },
  {
   "cell_type": "code",
   "execution_count": 9,
   "metadata": {
    "collapsed": false
   },
   "outputs": [
    {
     "name": "stdout",
     "output_type": "stream",
     "text": [
      "Imagen elegida: \n"
     ]
    },
    {
     "data": {
      "image/png": "[encoded data removed]",
      "text/plain": [
       "<matplotlib.figure.Figure at 0x7efeb0316490>"
      ]
     },
     "metadata": {},
     "output_type": "display_data"
    },
    {
     "name": "stdout",
     "output_type": "stream",
     "text": [
      "Clase predicha:  [4]\n",
      "Salida de nuestro modelo:  [[ 0.00001222  0.00008962  0.0000054   0.00004258  0.9920277   0.00033867\n",
      "   0.0002621   0.00004732  0.00065776  0.00651666]]\n"
     ]
    }
   ],
   "source": [
    "np.set_printoptions(suppress=True)\n",
    "# Prueba sobre una imagen concreta de test \n",
    "idx = 65\n",
    "\n",
    "print \"Imagen elegida: \"\n",
    "plt.imshow(mnist.test.images[idx,:].reshape(28, 28), cmap='gray')\n",
    "plt.title(mnist.test.labels[idx, :])\n",
    "plt.axis('off')\n",
    "plt.show()\n",
    "\n",
    "salidaModelo, prediccion = sess.run([tf.nn.softmax(y_conv), tf.argmax(tf.nn.softmax(y_conv), 1)],feed_dict={x: mnist.test.images[idx,:].reshape(1,784),\n",
    "y_: mnist.test.labels[idx, :].reshape(1,10)} )\n",
    "\n",
    "print \"Clase predicha: \", prediccion\n",
    "print \"Salida de nuestro modelo: \", salidaModelo"
   ]
  },
  {
   "cell_type": "code",
   "execution_count": null,
   "metadata": {
    "collapsed": true
   },
   "outputs": [],
   "source": []
  }
 ],
 "metadata": {
  "kernelspec": {
   "display_name": "Python 2",
   "language": "python",
   "name": "python2"
  },
  "language_info": {
   "codemirror_mode": {
    "name": "ipython",
    "version": 2
   },
   "file_extension": ".py",
   "mimetype": "text/x-python",
   "name": "python",
   "nbconvert_exporter": "python",
   "pygments_lexer": "ipython2",
   "version": "2.7.13"
  }
 },
 "nbformat": 4,
 "nbformat_minor": 2
}
